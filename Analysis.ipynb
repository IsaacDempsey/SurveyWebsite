{
 "cells": [
  {
   "cell_type": "code",
   "execution_count": 24,
   "metadata": {},
   "outputs": [],
   "source": [
    "# Enable auto-complete for notebook\n",
    "%config IPCompleter.greedy=True\n",
    "\n",
    "# Show plots directly in the notebook\n",
    "%matplotlib inline\n",
    "\n",
    "import pandas as pd\n",
    "import numpy as np\n",
    "# import statsmodels.formula.api as smf\n",
    "# from statsmodels.stats.api import anova_lm\n",
    "from scipy.stats import ttest_ind"
   ]
  },
  {
   "cell_type": "code",
   "execution_count": 2,
   "metadata": {},
   "outputs": [],
   "source": [
    "# Read in results\n",
    "df1 = pd.read_csv('results1.csv', header=None, names=['ColumnNumber', 'SizeGuess', 'ResponseTime', 'ColumnCorrect', 'SizeCorrect'], skiprows=1)\n",
    "df2 = pd.read_csv('results2.csv', header=None, names=['ColumnNumber', 'SizeGuess', 'ResponseTime', 'ColumnCorrect', 'SizeCorrect'], skiprows=1)\n",
    "df3 = pd.read_csv('results3.csv', header=None, names=['ColumnNumber', 'SizeGuess', 'ResponseTime', 'ColumnCorrect', 'SizeCorrect'], skiprows=1)\n",
    "df4 = pd.read_csv('results4.csv', header=None, names=['ColumnNumber', 'SizeGuess', 'ResponseTime', 'ColumnCorrect', 'SizeCorrect'], skiprows=1)\n",
    "df5 = pd.read_csv('results5.csv', header=None, names=['ColumnNumber', 'SizeGuess', 'ResponseTime', 'ColumnCorrect', 'SizeCorrect'], skiprows=1)"
   ]
  },
  {
   "cell_type": "code",
   "execution_count": 3,
   "metadata": {},
   "outputs": [
    {
     "data": {
      "text/html": [
       "<div>\n",
       "<style scoped>\n",
       "    .dataframe tbody tr th:only-of-type {\n",
       "        vertical-align: middle;\n",
       "    }\n",
       "\n",
       "    .dataframe tbody tr th {\n",
       "        vertical-align: top;\n",
       "    }\n",
       "\n",
       "    .dataframe thead th {\n",
       "        text-align: right;\n",
       "    }\n",
       "</style>\n",
       "<table border=\"1\" class=\"dataframe\">\n",
       "  <thead>\n",
       "    <tr style=\"text-align: right;\">\n",
       "      <th></th>\n",
       "      <th>ColumnNumber</th>\n",
       "      <th>SizeGuess</th>\n",
       "      <th>ResponseTime</th>\n",
       "      <th>ColumnCorrect</th>\n",
       "      <th>SizeCorrect</th>\n",
       "    </tr>\n",
       "  </thead>\n",
       "  <tbody>\n",
       "    <tr>\n",
       "      <th>17</th>\n",
       "      <td>7</td>\n",
       "      <td>12</td>\n",
       "      <td>18.144339</td>\n",
       "      <td>1</td>\n",
       "      <td>10</td>\n",
       "    </tr>\n",
       "    <tr>\n",
       "      <th>6</th>\n",
       "      <td>0</td>\n",
       "      <td>37</td>\n",
       "      <td>16.199298</td>\n",
       "      <td>0</td>\n",
       "      <td>37</td>\n",
       "    </tr>\n",
       "    <tr>\n",
       "      <th>10</th>\n",
       "      <td>1</td>\n",
       "      <td>42</td>\n",
       "      <td>22.885215</td>\n",
       "      <td>1</td>\n",
       "      <td>42</td>\n",
       "    </tr>\n",
       "    <tr>\n",
       "      <th>4</th>\n",
       "      <td>2</td>\n",
       "      <td>52</td>\n",
       "      <td>16.558601</td>\n",
       "      <td>2</td>\n",
       "      <td>52</td>\n",
       "    </tr>\n",
       "    <tr>\n",
       "      <th>12</th>\n",
       "      <td>1</td>\n",
       "      <td>22</td>\n",
       "      <td>10.418463</td>\n",
       "      <td>1</td>\n",
       "      <td>22</td>\n",
       "    </tr>\n",
       "  </tbody>\n",
       "</table>\n",
       "</div>"
      ],
      "text/plain": [
       "    ColumnNumber  SizeGuess  ResponseTime  ColumnCorrect  SizeCorrect\n",
       "17             7         12     18.144339              1           10\n",
       "6              0         37     16.199298              0           37\n",
       "10             1         42     22.885215              1           42\n",
       "4              2         52     16.558601              2           52\n",
       "12             1         22     10.418463              1           22"
      ]
     },
     "execution_count": 3,
     "metadata": {},
     "output_type": "execute_result"
    }
   ],
   "source": [
    "df5.head()"
   ]
  },
  {
   "cell_type": "code",
   "execution_count": 4,
   "metadata": {},
   "outputs": [],
   "source": [
    "# Create data frame including all results\n",
    "df = df1.append([df2, df3, df4, df5])"
   ]
  },
  {
   "cell_type": "code",
   "execution_count": 5,
   "metadata": {},
   "outputs": [],
   "source": [
    "# Make new feature that expresses if relative estimate was correct\n",
    "df['EstimateRelative'] = df['ColumnNumber'] == df['ColumnCorrect'] \n",
    "\n",
    "# Encode labels to 0/1\n",
    "df.EstimateRelative = df.EstimateRelative.astype(int, copy=False)"
   ]
  },
  {
   "cell_type": "code",
   "execution_count": 6,
   "metadata": {},
   "outputs": [],
   "source": [
    "# Make new feature that describes specific estimate error\n",
    "df['EstimateError'] = df['SizeCorrect'] - df['SizeGuess'] "
   ]
  },
  {
   "cell_type": "code",
   "execution_count": 9,
   "metadata": {},
   "outputs": [],
   "source": [
    "# 0 bar, 1 column\n",
    "df['GraphType'] = df['ColumnNumber'] % 2"
   ]
  },
  {
   "cell_type": "code",
   "execution_count": 10,
   "metadata": {},
   "outputs": [
    {
     "data": {
      "text/html": [
       "<div>\n",
       "<style scoped>\n",
       "    .dataframe tbody tr th:only-of-type {\n",
       "        vertical-align: middle;\n",
       "    }\n",
       "\n",
       "    .dataframe tbody tr th {\n",
       "        vertical-align: top;\n",
       "    }\n",
       "\n",
       "    .dataframe thead th {\n",
       "        text-align: right;\n",
       "    }\n",
       "</style>\n",
       "<table border=\"1\" class=\"dataframe\">\n",
       "  <thead>\n",
       "    <tr style=\"text-align: right;\">\n",
       "      <th></th>\n",
       "      <th>ColumnNumber</th>\n",
       "      <th>SizeGuess</th>\n",
       "      <th>ResponseTime</th>\n",
       "      <th>ColumnCorrect</th>\n",
       "      <th>SizeCorrect</th>\n",
       "      <th>EstimateRelative</th>\n",
       "      <th>EstimateError</th>\n",
       "      <th>GraphType</th>\n",
       "    </tr>\n",
       "  </thead>\n",
       "  <tbody>\n",
       "    <tr>\n",
       "      <th>count</th>\n",
       "      <td>120.00000</td>\n",
       "      <td>120.000000</td>\n",
       "      <td>120.000000</td>\n",
       "      <td>120.000000</td>\n",
       "      <td>120.000000</td>\n",
       "      <td>120.000000</td>\n",
       "      <td>120.000000</td>\n",
       "      <td>120.000000</td>\n",
       "    </tr>\n",
       "    <tr>\n",
       "      <th>mean</th>\n",
       "      <td>1.55000</td>\n",
       "      <td>34.183333</td>\n",
       "      <td>15.574807</td>\n",
       "      <td>1.500000</td>\n",
       "      <td>34.083333</td>\n",
       "      <td>0.991667</td>\n",
       "      <td>-0.100000</td>\n",
       "      <td>0.500000</td>\n",
       "    </tr>\n",
       "    <tr>\n",
       "      <th>std</th>\n",
       "      <td>1.08349</td>\n",
       "      <td>19.883266</td>\n",
       "      <td>6.497189</td>\n",
       "      <td>0.961441</td>\n",
       "      <td>20.565363</td>\n",
       "      <td>0.091287</td>\n",
       "      <td>1.976331</td>\n",
       "      <td>0.502096</td>\n",
       "    </tr>\n",
       "    <tr>\n",
       "      <th>min</th>\n",
       "      <td>0.00000</td>\n",
       "      <td>9.000000</td>\n",
       "      <td>7.435744</td>\n",
       "      <td>0.000000</td>\n",
       "      <td>10.000000</td>\n",
       "      <td>0.000000</td>\n",
       "      <td>-9.000000</td>\n",
       "      <td>0.000000</td>\n",
       "    </tr>\n",
       "    <tr>\n",
       "      <th>25%</th>\n",
       "      <td>1.00000</td>\n",
       "      <td>18.750000</td>\n",
       "      <td>11.274680</td>\n",
       "      <td>1.000000</td>\n",
       "      <td>18.750000</td>\n",
       "      <td>1.000000</td>\n",
       "      <td>-1.000000</td>\n",
       "      <td>0.000000</td>\n",
       "    </tr>\n",
       "    <tr>\n",
       "      <th>50%</th>\n",
       "      <td>2.00000</td>\n",
       "      <td>30.000000</td>\n",
       "      <td>13.770182</td>\n",
       "      <td>1.500000</td>\n",
       "      <td>30.000000</td>\n",
       "      <td>1.000000</td>\n",
       "      <td>0.000000</td>\n",
       "      <td>0.500000</td>\n",
       "    </tr>\n",
       "    <tr>\n",
       "      <th>75%</th>\n",
       "      <td>2.00000</td>\n",
       "      <td>44.250000</td>\n",
       "      <td>18.157962</td>\n",
       "      <td>2.000000</td>\n",
       "      <td>44.500000</td>\n",
       "      <td>1.000000</td>\n",
       "      <td>1.000000</td>\n",
       "      <td>1.000000</td>\n",
       "    </tr>\n",
       "    <tr>\n",
       "      <th>max</th>\n",
       "      <td>7.00000</td>\n",
       "      <td>85.000000</td>\n",
       "      <td>43.630312</td>\n",
       "      <td>3.000000</td>\n",
       "      <td>85.000000</td>\n",
       "      <td>1.000000</td>\n",
       "      <td>6.000000</td>\n",
       "      <td>1.000000</td>\n",
       "    </tr>\n",
       "  </tbody>\n",
       "</table>\n",
       "</div>"
      ],
      "text/plain": [
       "       ColumnNumber   SizeGuess  ResponseTime  ColumnCorrect  SizeCorrect  \\\n",
       "count     120.00000  120.000000    120.000000     120.000000   120.000000   \n",
       "mean        1.55000   34.183333     15.574807       1.500000    34.083333   \n",
       "std         1.08349   19.883266      6.497189       0.961441    20.565363   \n",
       "min         0.00000    9.000000      7.435744       0.000000    10.000000   \n",
       "25%         1.00000   18.750000     11.274680       1.000000    18.750000   \n",
       "50%         2.00000   30.000000     13.770182       1.500000    30.000000   \n",
       "75%         2.00000   44.250000     18.157962       2.000000    44.500000   \n",
       "max         7.00000   85.000000     43.630312       3.000000    85.000000   \n",
       "\n",
       "       EstimateRelative  EstimateError   GraphType  \n",
       "count        120.000000     120.000000  120.000000  \n",
       "mean           0.991667      -0.100000    0.500000  \n",
       "std            0.091287       1.976331    0.502096  \n",
       "min            0.000000      -9.000000    0.000000  \n",
       "25%            1.000000      -1.000000    0.000000  \n",
       "50%            1.000000       0.000000    0.500000  \n",
       "75%            1.000000       1.000000    1.000000  \n",
       "max            1.000000       6.000000    1.000000  "
      ]
     },
     "execution_count": 10,
     "metadata": {},
     "output_type": "execute_result"
    }
   ],
   "source": [
    "df.describe()"
   ]
  },
  {
   "cell_type": "code",
   "execution_count": 11,
   "metadata": {},
   "outputs": [],
   "source": [
    "df_bar = df[df.GraphType == 0]\n",
    "df_col = df[df.GraphType == 1]"
   ]
  },
  {
   "cell_type": "code",
   "execution_count": 13,
   "metadata": {},
   "outputs": [
    {
     "data": {
      "text/plain": [
       "ColumnNumber          0.903955\n",
       "SizeGuess           518.285593\n",
       "ResponseTime         44.192112\n",
       "ColumnCorrect         0.903955\n",
       "SizeCorrect         564.632768\n",
       "EstimateRelative      0.000000\n",
       "EstimateError         4.545480\n",
       "GraphType             0.000000\n",
       "dtype: float64"
      ]
     },
     "execution_count": 13,
     "metadata": {},
     "output_type": "execute_result"
    }
   ],
   "source": [
    "df_bar.var()"
   ]
  },
  {
   "cell_type": "code",
   "execution_count": 14,
   "metadata": {},
   "outputs": [
    {
     "data": {
      "text/plain": [
       "ColumnNumber          1.368362\n",
       "SizeGuess           104.450565\n",
       "ResponseTime         40.943878\n",
       "ColumnCorrect         0.903955\n",
       "SizeCorrect         114.378531\n",
       "EstimateRelative      0.016667\n",
       "EstimateError         3.331921\n",
       "GraphType             0.000000\n",
       "dtype: float64"
      ]
     },
     "execution_count": 14,
     "metadata": {},
     "output_type": "execute_result"
    }
   ],
   "source": [
    "df_col.var()"
   ]
  },
  {
   "cell_type": "markdown",
   "metadata": {},
   "source": [
    "**T-Test**\n",
    "\n",
    "2 requirements for t-test:\n",
    "- same sample size\n",
    "- same variance\n",
    "\n",
    "Checked variance above and they are similar\n",
    "\n",
    "**Column Graph**\n",
    "\n",
    "ResponseTime         40.943878\n",
    "\n",
    "EstimateRelative      0.016667\n",
    "\n",
    "EstimateError         3.331921\n",
    "\n",
    "\n",
    "**Bar Graph**\n",
    "\n",
    "ResponseTime         44.192112\n",
    "\n",
    "EstimateRelative      0.000000\n",
    "\n",
    "EstimateError         4.545480"
   ]
  },
  {
   "cell_type": "code",
   "execution_count": 29,
   "metadata": {},
   "outputs": [
    {
     "data": {
      "text/plain": [
       "Ttest_indResult(statistic=-0.09441940883658574, pvalue=0.9249363753201283)"
      ]
     },
     "execution_count": 29,
     "metadata": {},
     "output_type": "execute_result"
    }
   ],
   "source": [
    "# https://docs.scipy.org/doc/scipy/reference/generated/scipy.stats.ttest_ind.html#scipy.stats.ttest_ind\n",
    "\n",
    "# If we observe a large p-value, for example larger than 0.05 or 0.1, then we \n",
    "# cannot reject the null hypothesis of identical average scores. If the p-value \n",
    "# is smaller than the threshold, e.g. 1%, 5% or 10%, then we reject the null \n",
    "# hypothesis of equal averages.\n",
    "\n",
    "ttest_ind(df_col.ResponseTime, df_bar.ResponseTime, equal_var=False)"
   ]
  },
  {
   "cell_type": "code",
   "execution_count": 26,
   "metadata": {},
   "outputs": [
    {
     "data": {
      "text/plain": [
       "Ttest_indResult(statistic=-1.0000000000000029, pvalue=0.3213942797694436)"
      ]
     },
     "execution_count": 26,
     "metadata": {},
     "output_type": "execute_result"
    }
   ],
   "source": [
    "ttest_ind(df_col.EstimateRelative, df_bar.EstimateRelative, equal_var=False)"
   ]
  },
  {
   "cell_type": "code",
   "execution_count": 27,
   "metadata": {},
   "outputs": [
    {
     "data": {
      "text/plain": [
       "Ttest_indResult(statistic=0.09199471747195852, pvalue=0.9268619315172151)"
      ]
     },
     "execution_count": 27,
     "metadata": {},
     "output_type": "execute_result"
    }
   ],
   "source": [
    "ttest_ind(df_col.EstimateError, df_bar.EstimateError, equal_var=False)"
   ]
  },
  {
   "cell_type": "code",
   "execution_count": null,
   "metadata": {},
   "outputs": [],
   "source": []
  }
 ],
 "metadata": {
  "kernelspec": {
   "display_name": "Python 3",
   "language": "python",
   "name": "python3"
  },
  "language_info": {
   "codemirror_mode": {
    "name": "ipython",
    "version": 3
   },
   "file_extension": ".py",
   "mimetype": "text/x-python",
   "name": "python",
   "nbconvert_exporter": "python",
   "pygments_lexer": "ipython3",
   "version": "3.6.4"
  }
 },
 "nbformat": 4,
 "nbformat_minor": 2
}
